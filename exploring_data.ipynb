{
 "cells": [
  {
   "cell_type": "code",
   "execution_count": 1,
   "id": "8257f4cb",
   "metadata": {},
   "outputs": [],
   "source": [
    "import pandas as pd\n",
    "import numpy as np\n",
    "import seaborn as sns\n",
    "import matplotlib.pyplot as plt"
   ]
  },
  {
   "cell_type": "markdown",
   "id": "a86c72d6",
   "metadata": {},
   "source": [
    "# Individuos"
   ]
  },
  {
   "cell_type": "code",
   "execution_count": 2,
   "id": "dfa09e9f",
   "metadata": {},
   "outputs": [
    {
     "data": {
      "text/html": [
       "<div>\n",
       "<style scoped>\n",
       "    .dataframe tbody tr th:only-of-type {\n",
       "        vertical-align: middle;\n",
       "    }\n",
       "\n",
       "    .dataframe tbody tr th {\n",
       "        vertical-align: top;\n",
       "    }\n",
       "\n",
       "    .dataframe thead th {\n",
       "        text-align: right;\n",
       "    }\n",
       "</style>\n",
       "<table border=\"1\" class=\"dataframe\">\n",
       "  <thead>\n",
       "    <tr style=\"text-align: right;\">\n",
       "      <th></th>\n",
       "      <th>name</th>\n",
       "      <th>idade</th>\n",
       "      <th>estado_civil</th>\n",
       "      <th>qt_filhos</th>\n",
       "      <th>estuda</th>\n",
       "      <th>trabalha</th>\n",
       "      <th>pratica_esportes</th>\n",
       "      <th>transporte_mais_utilizado</th>\n",
       "      <th>IMC</th>\n",
       "    </tr>\n",
       "  </thead>\n",
       "  <tbody>\n",
       "    <tr>\n",
       "      <th>0</th>\n",
       "      <td>1</td>\n",
       "      <td>44.0</td>\n",
       "      <td>divorciado</td>\n",
       "      <td>1.0</td>\n",
       "      <td>1.0</td>\n",
       "      <td>0.0</td>\n",
       "      <td>1.0</td>\n",
       "      <td>publico</td>\n",
       "      <td>22.200956</td>\n",
       "    </tr>\n",
       "    <tr>\n",
       "      <th>1</th>\n",
       "      <td>2</td>\n",
       "      <td>24.0</td>\n",
       "      <td>casado</td>\n",
       "      <td>0.0</td>\n",
       "      <td>0.0</td>\n",
       "      <td>0.0</td>\n",
       "      <td>1.0</td>\n",
       "      <td>publico</td>\n",
       "      <td>25.378720</td>\n",
       "    </tr>\n",
       "    <tr>\n",
       "      <th>2</th>\n",
       "      <td>3</td>\n",
       "      <td>35.0</td>\n",
       "      <td>solteiro</td>\n",
       "      <td>1.0</td>\n",
       "      <td>0.0</td>\n",
       "      <td>0.0</td>\n",
       "      <td>1.0</td>\n",
       "      <td>particular</td>\n",
       "      <td>19.952393</td>\n",
       "    </tr>\n",
       "    <tr>\n",
       "      <th>3</th>\n",
       "      <td>4</td>\n",
       "      <td>50.0</td>\n",
       "      <td>casado</td>\n",
       "      <td>1.0</td>\n",
       "      <td>1.0</td>\n",
       "      <td>1.0</td>\n",
       "      <td>0.0</td>\n",
       "      <td>publico</td>\n",
       "      <td>26.732053</td>\n",
       "    </tr>\n",
       "    <tr>\n",
       "      <th>4</th>\n",
       "      <td>5</td>\n",
       "      <td>30.0</td>\n",
       "      <td>solteiro</td>\n",
       "      <td>2.0</td>\n",
       "      <td>1.0</td>\n",
       "      <td>0.0</td>\n",
       "      <td>1.0</td>\n",
       "      <td>publico</td>\n",
       "      <td>15.295668</td>\n",
       "    </tr>\n",
       "  </tbody>\n",
       "</table>\n",
       "</div>"
      ],
      "text/plain": [
       "   name  idade estado_civil  qt_filhos  estuda  trabalha  pratica_esportes  \\\n",
       "0     1   44.0   divorciado        1.0     1.0       0.0               1.0   \n",
       "1     2   24.0       casado        0.0     0.0       0.0               1.0   \n",
       "2     3   35.0     solteiro        1.0     0.0       0.0               1.0   \n",
       "3     4   50.0       casado        1.0     1.0       1.0               0.0   \n",
       "4     5   30.0     solteiro        2.0     1.0       0.0               1.0   \n",
       "\n",
       "  transporte_mais_utilizado        IMC  \n",
       "0                   publico  22.200956  \n",
       "1                   publico  25.378720  \n",
       "2                particular  19.952393  \n",
       "3                   publico  26.732053  \n",
       "4                   publico  15.295668  "
      ]
     },
     "execution_count": 2,
     "metadata": {},
     "output_type": "execute_result"
    }
   ],
   "source": [
    "individuos = pd.read_csv('database/individuos_espec.csv', sep=';')\n",
    "individuos.head()"
   ]
  },
  {
   "cell_type": "code",
   "execution_count": 3,
   "id": "d9383cfd",
   "metadata": {},
   "outputs": [
    {
     "data": {
      "text/html": [
       "<div>\n",
       "<style scoped>\n",
       "    .dataframe tbody tr th:only-of-type {\n",
       "        vertical-align: middle;\n",
       "    }\n",
       "\n",
       "    .dataframe tbody tr th {\n",
       "        vertical-align: top;\n",
       "    }\n",
       "\n",
       "    .dataframe thead th {\n",
       "        text-align: right;\n",
       "    }\n",
       "</style>\n",
       "<table border=\"1\" class=\"dataframe\">\n",
       "  <thead>\n",
       "    <tr style=\"text-align: right;\">\n",
       "      <th></th>\n",
       "      <th>name</th>\n",
       "      <th>idade</th>\n",
       "      <th>qt_filhos</th>\n",
       "      <th>estuda</th>\n",
       "      <th>trabalha</th>\n",
       "      <th>pratica_esportes</th>\n",
       "      <th>IMC</th>\n",
       "    </tr>\n",
       "  </thead>\n",
       "  <tbody>\n",
       "    <tr>\n",
       "      <th>count</th>\n",
       "      <td>1000000.000000</td>\n",
       "      <td>904063.000000</td>\n",
       "      <td>971133.000000</td>\n",
       "      <td>959870.000000</td>\n",
       "      <td>993647.000000</td>\n",
       "      <td>850876.000000</td>\n",
       "      <td>886130.000000</td>\n",
       "    </tr>\n",
       "    <tr>\n",
       "      <th>mean</th>\n",
       "      <td>500000.500000</td>\n",
       "      <td>30.008431</td>\n",
       "      <td>0.928406</td>\n",
       "      <td>0.442588</td>\n",
       "      <td>0.556739</td>\n",
       "      <td>0.599823</td>\n",
       "      <td>22.472079</td>\n",
       "    </tr>\n",
       "    <tr>\n",
       "      <th>std</th>\n",
       "      <td>288675.278932</td>\n",
       "      <td>10.951566</td>\n",
       "      <td>0.997289</td>\n",
       "      <td>0.496693</td>\n",
       "      <td>0.496771</td>\n",
       "      <td>0.489934</td>\n",
       "      <td>7.073692</td>\n",
       "    </tr>\n",
       "    <tr>\n",
       "      <th>min</th>\n",
       "      <td>1.000000</td>\n",
       "      <td>0.000000</td>\n",
       "      <td>0.000000</td>\n",
       "      <td>0.000000</td>\n",
       "      <td>0.000000</td>\n",
       "      <td>0.000000</td>\n",
       "      <td>4.852828</td>\n",
       "    </tr>\n",
       "    <tr>\n",
       "      <th>25%</th>\n",
       "      <td>250000.750000</td>\n",
       "      <td>22.000000</td>\n",
       "      <td>0.000000</td>\n",
       "      <td>0.000000</td>\n",
       "      <td>0.000000</td>\n",
       "      <td>0.000000</td>\n",
       "      <td>17.420851</td>\n",
       "    </tr>\n",
       "    <tr>\n",
       "      <th>50%</th>\n",
       "      <td>500000.500000</td>\n",
       "      <td>29.000000</td>\n",
       "      <td>1.000000</td>\n",
       "      <td>0.000000</td>\n",
       "      <td>1.000000</td>\n",
       "      <td>1.000000</td>\n",
       "      <td>21.431200</td>\n",
       "    </tr>\n",
       "    <tr>\n",
       "      <th>75%</th>\n",
       "      <td>750000.250000</td>\n",
       "      <td>37.000000</td>\n",
       "      <td>1.000000</td>\n",
       "      <td>1.000000</td>\n",
       "      <td>1.000000</td>\n",
       "      <td>1.000000</td>\n",
       "      <td>26.378197</td>\n",
       "    </tr>\n",
       "    <tr>\n",
       "      <th>max</th>\n",
       "      <td>1000000.000000</td>\n",
       "      <td>124.000000</td>\n",
       "      <td>9.000000</td>\n",
       "      <td>1.000000</td>\n",
       "      <td>1.000000</td>\n",
       "      <td>1.000000</td>\n",
       "      <td>89.158204</td>\n",
       "    </tr>\n",
       "  </tbody>\n",
       "</table>\n",
       "</div>"
      ],
      "text/plain": [
       "                 name          idade      qt_filhos         estuda  \\\n",
       "count  1000000.000000  904063.000000  971133.000000  959870.000000   \n",
       "mean    500000.500000      30.008431       0.928406       0.442588   \n",
       "std     288675.278932      10.951566       0.997289       0.496693   \n",
       "min          1.000000       0.000000       0.000000       0.000000   \n",
       "25%     250000.750000      22.000000       0.000000       0.000000   \n",
       "50%     500000.500000      29.000000       1.000000       0.000000   \n",
       "75%     750000.250000      37.000000       1.000000       1.000000   \n",
       "max    1000000.000000     124.000000       9.000000       1.000000   \n",
       "\n",
       "            trabalha  pratica_esportes            IMC  \n",
       "count  993647.000000     850876.000000  886130.000000  \n",
       "mean        0.556739          0.599823      22.472079  \n",
       "std         0.496771          0.489934       7.073692  \n",
       "min         0.000000          0.000000       4.852828  \n",
       "25%         0.000000          0.000000      17.420851  \n",
       "50%         1.000000          1.000000      21.431200  \n",
       "75%         1.000000          1.000000      26.378197  \n",
       "max         1.000000          1.000000      89.158204  "
      ]
     },
     "execution_count": 3,
     "metadata": {},
     "output_type": "execute_result"
    }
   ],
   "source": [
    "individuos.describe()"
   ]
  },
  {
   "cell_type": "code",
   "execution_count": null,
   "id": "a83b80c4",
   "metadata": {},
   "outputs": [],
   "source": []
  },
  {
   "cell_type": "markdown",
   "id": "000b28e6",
   "metadata": {},
   "source": [
    "## Functions"
   ]
  },
  {
   "cell_type": "code",
   "execution_count": 4,
   "id": "394c97a6",
   "metadata": {},
   "outputs": [],
   "source": [
    "def percentage_of_NaN(field, nan_sum, field_len):\n",
    "    print(f\"Total of NaN in {field} is {round(nan_sum/field_len,4)*100}%\")"
   ]
  },
  {
   "cell_type": "code",
   "execution_count": null,
   "id": "0f7cf555",
   "metadata": {},
   "outputs": [],
   "source": []
  },
  {
   "cell_type": "markdown",
   "id": "c7755b3b",
   "metadata": {},
   "source": [
    "### name (id)"
   ]
  },
  {
   "cell_type": "code",
   "execution_count": 5,
   "id": "bfc5c421",
   "metadata": {},
   "outputs": [
    {
     "data": {
      "text/plain": [
       "1          1\n",
       "666658     1\n",
       "666660     1\n",
       "666661     1\n",
       "666662     1\n",
       "          ..\n",
       "333338     1\n",
       "333339     1\n",
       "333340     1\n",
       "333341     1\n",
       "1000000    1\n",
       "Name: name, Length: 1000000, dtype: int64"
      ]
     },
     "execution_count": 5,
     "metadata": {},
     "output_type": "execute_result"
    }
   ],
   "source": [
    "individuos.name.value_counts()"
   ]
  },
  {
   "cell_type": "code",
   "execution_count": null,
   "id": "dcb01347",
   "metadata": {},
   "outputs": [],
   "source": []
  },
  {
   "cell_type": "markdown",
   "id": "0f3183b4",
   "metadata": {},
   "source": [
    "### idade"
   ]
  },
  {
   "cell_type": "code",
   "execution_count": 6,
   "id": "3c2e6d79",
   "metadata": {},
   "outputs": [
    {
     "data": {
      "text/plain": [
       "27.0     34577\n",
       "28.0     34186\n",
       "26.0     34166\n",
       "25.0     34094\n",
       "24.0     33314\n",
       "         ...  \n",
       "96.0         1\n",
       "110.0        1\n",
       "124.0        1\n",
       "98.0         1\n",
       "106.0        1\n",
       "Name: idade, Length: 105, dtype: int64"
      ]
     },
     "execution_count": 6,
     "metadata": {},
     "output_type": "execute_result"
    }
   ],
   "source": [
    "individuos.idade.value_counts()"
   ]
  },
  {
   "cell_type": "code",
   "execution_count": 7,
   "id": "c94631e4",
   "metadata": {},
   "outputs": [
    {
     "data": {
      "text/plain": [
       "95937"
      ]
     },
     "execution_count": 7,
     "metadata": {},
     "output_type": "execute_result"
    }
   ],
   "source": [
    "individuos.idade.isna().sum()"
   ]
  },
  {
   "cell_type": "code",
   "execution_count": 8,
   "id": "52f79445",
   "metadata": {},
   "outputs": [
    {
     "name": "stdout",
     "output_type": "stream",
     "text": [
      "Total of NaN in idade is 9.59%\n"
     ]
    }
   ],
   "source": [
    "percentage_of_NaN('idade', individuos.idade.isna().sum(), len(individuos.idade))"
   ]
  },
  {
   "cell_type": "code",
   "execution_count": null,
   "id": "18ffc395",
   "metadata": {},
   "outputs": [],
   "source": []
  },
  {
   "cell_type": "markdown",
   "id": "6b4187b6",
   "metadata": {},
   "source": [
    "### estado_civil"
   ]
  },
  {
   "cell_type": "code",
   "execution_count": 9,
   "id": "e7b10913",
   "metadata": {},
   "outputs": [
    {
     "data": {
      "text/plain": [
       "solteiro      420637\n",
       "casado        265030\n",
       "divorciado    176054\n",
       "viuvo          88206\n",
       "Name: estado_civil, dtype: int64"
      ]
     },
     "execution_count": 9,
     "metadata": {},
     "output_type": "execute_result"
    }
   ],
   "source": [
    "individuos.estado_civil.value_counts()"
   ]
  },
  {
   "cell_type": "code",
   "execution_count": 10,
   "id": "19f5a10a",
   "metadata": {},
   "outputs": [
    {
     "data": {
      "text/plain": [
       "array(['divorciado', 'casado', 'solteiro', nan, 'viuvo'], dtype=object)"
      ]
     },
     "execution_count": 10,
     "metadata": {},
     "output_type": "execute_result"
    }
   ],
   "source": [
    "individuos.estado_civil.unique()"
   ]
  },
  {
   "cell_type": "code",
   "execution_count": 11,
   "id": "99247c2f",
   "metadata": {},
   "outputs": [
    {
     "data": {
      "text/plain": [
       "50073"
      ]
     },
     "execution_count": 11,
     "metadata": {},
     "output_type": "execute_result"
    }
   ],
   "source": [
    "individuos.estado_civil.isna().sum()"
   ]
  },
  {
   "cell_type": "code",
   "execution_count": 12,
   "id": "594a6e00",
   "metadata": {},
   "outputs": [
    {
     "name": "stdout",
     "output_type": "stream",
     "text": [
      "Total of NaN in estado_civil is 5.01%\n"
     ]
    }
   ],
   "source": [
    "percentage_of_NaN('estado_civil', individuos.estado_civil.isna().sum(), len(individuos.estado_civil))"
   ]
  },
  {
   "cell_type": "code",
   "execution_count": null,
   "id": "b63e5dbb",
   "metadata": {},
   "outputs": [],
   "source": []
  },
  {
   "cell_type": "markdown",
   "id": "3d5ca739",
   "metadata": {},
   "source": [
    "### qt_filhos"
   ]
  },
  {
   "cell_type": "code",
   "execution_count": 13,
   "id": "8fcc681a",
   "metadata": {},
   "outputs": [
    {
     "data": {
      "text/plain": [
       "0.0    401401\n",
       "1.0    331186\n",
       "2.0    166111\n",
       "3.0     55410\n",
       "4.0     13770\n",
       "5.0      2716\n",
       "6.0       476\n",
       "7.0        53\n",
       "8.0         9\n",
       "9.0         1\n",
       "Name: qt_filhos, dtype: int64"
      ]
     },
     "execution_count": 13,
     "metadata": {},
     "output_type": "execute_result"
    }
   ],
   "source": [
    "individuos.qt_filhos.value_counts()"
   ]
  },
  {
   "cell_type": "code",
   "execution_count": 14,
   "id": "f8bb67c0",
   "metadata": {},
   "outputs": [
    {
     "data": {
      "text/plain": [
       "28867"
      ]
     },
     "execution_count": 14,
     "metadata": {},
     "output_type": "execute_result"
    }
   ],
   "source": [
    "individuos.qt_filhos.isna().sum()"
   ]
  },
  {
   "cell_type": "code",
   "execution_count": 15,
   "id": "9e17e57d",
   "metadata": {},
   "outputs": [
    {
     "name": "stdout",
     "output_type": "stream",
     "text": [
      "Total of NaN in qt_filhos is 2.8899999999999997%\n"
     ]
    }
   ],
   "source": [
    "percentage_of_NaN('qt_filhos', individuos.qt_filhos.isna().sum(), len(individuos.qt_filhos))"
   ]
  },
  {
   "cell_type": "code",
   "execution_count": null,
   "id": "4fdab133",
   "metadata": {},
   "outputs": [],
   "source": []
  },
  {
   "cell_type": "markdown",
   "id": "bf46814d",
   "metadata": {},
   "source": [
    "### estuda"
   ]
  },
  {
   "cell_type": "code",
   "execution_count": 16,
   "id": "7bfad768",
   "metadata": {},
   "outputs": [
    {
     "data": {
      "text/plain": [
       "0.0    535043\n",
       "1.0    424827\n",
       "Name: estuda, dtype: int64"
      ]
     },
     "execution_count": 16,
     "metadata": {},
     "output_type": "execute_result"
    }
   ],
   "source": [
    "individuos.estuda.value_counts()"
   ]
  },
  {
   "cell_type": "code",
   "execution_count": 17,
   "id": "1e62e0df",
   "metadata": {},
   "outputs": [
    {
     "data": {
      "text/plain": [
       "40130"
      ]
     },
     "execution_count": 17,
     "metadata": {},
     "output_type": "execute_result"
    }
   ],
   "source": [
    "individuos.estuda.isna().sum()"
   ]
  },
  {
   "cell_type": "code",
   "execution_count": 18,
   "id": "91834691",
   "metadata": {},
   "outputs": [
    {
     "name": "stdout",
     "output_type": "stream",
     "text": [
      "Total of NaN in estuda is 4.01%\n"
     ]
    }
   ],
   "source": [
    "percentage_of_NaN('estuda', individuos.estuda.isna().sum(), len(individuos.estuda))"
   ]
  },
  {
   "cell_type": "code",
   "execution_count": null,
   "id": "b83c4f43",
   "metadata": {},
   "outputs": [],
   "source": []
  },
  {
   "cell_type": "markdown",
   "id": "ea27e47d",
   "metadata": {},
   "source": [
    "### trabalha"
   ]
  },
  {
   "cell_type": "code",
   "execution_count": 19,
   "id": "7efa63b0",
   "metadata": {},
   "outputs": [
    {
     "data": {
      "text/plain": [
       "1.0    553202\n",
       "0.0    440445\n",
       "Name: trabalha, dtype: int64"
      ]
     },
     "execution_count": 19,
     "metadata": {},
     "output_type": "execute_result"
    }
   ],
   "source": [
    "individuos.trabalha.value_counts()"
   ]
  },
  {
   "cell_type": "code",
   "execution_count": 20,
   "id": "6f8d025a",
   "metadata": {},
   "outputs": [
    {
     "data": {
      "text/plain": [
       "6353"
      ]
     },
     "execution_count": 20,
     "metadata": {},
     "output_type": "execute_result"
    }
   ],
   "source": [
    "individuos.trabalha.isna().sum()"
   ]
  },
  {
   "cell_type": "code",
   "execution_count": 21,
   "id": "670da91a",
   "metadata": {},
   "outputs": [
    {
     "name": "stdout",
     "output_type": "stream",
     "text": [
      "Total of NaN in trabalha is 0.64%\n"
     ]
    }
   ],
   "source": [
    "percentage_of_NaN('trabalha', individuos.trabalha.isna().sum(), len(individuos.trabalha))"
   ]
  },
  {
   "cell_type": "code",
   "execution_count": null,
   "id": "721ff6db",
   "metadata": {},
   "outputs": [],
   "source": []
  },
  {
   "cell_type": "markdown",
   "id": "435dbcd9",
   "metadata": {},
   "source": [
    "### pratica_esportes"
   ]
  },
  {
   "cell_type": "code",
   "execution_count": 22,
   "id": "642b76a4",
   "metadata": {},
   "outputs": [
    {
     "data": {
      "text/plain": [
       "1.0    510375\n",
       "0.0    340501\n",
       "Name: pratica_esportes, dtype: int64"
      ]
     },
     "execution_count": 22,
     "metadata": {},
     "output_type": "execute_result"
    }
   ],
   "source": [
    "individuos.pratica_esportes.value_counts()"
   ]
  },
  {
   "cell_type": "code",
   "execution_count": 23,
   "id": "1cb72260",
   "metadata": {},
   "outputs": [
    {
     "data": {
      "text/plain": [
       "149124"
      ]
     },
     "execution_count": 23,
     "metadata": {},
     "output_type": "execute_result"
    }
   ],
   "source": [
    "individuos.pratica_esportes.isna().sum()"
   ]
  },
  {
   "cell_type": "code",
   "execution_count": 24,
   "id": "97544a89",
   "metadata": {},
   "outputs": [
    {
     "name": "stdout",
     "output_type": "stream",
     "text": [
      "Total of NaN in pratica_esportes is 14.91%\n"
     ]
    }
   ],
   "source": [
    "percentage_of_NaN('pratica_esportes', individuos.pratica_esportes.isna().sum(), len(individuos.pratica_esportes))"
   ]
  },
  {
   "cell_type": "code",
   "execution_count": null,
   "id": "8d8fe167",
   "metadata": {},
   "outputs": [],
   "source": []
  },
  {
   "cell_type": "markdown",
   "id": "bc62f1bb",
   "metadata": {},
   "source": [
    "### transporte_mais_utilizado"
   ]
  },
  {
   "cell_type": "code",
   "execution_count": 25,
   "id": "d829feb8",
   "metadata": {},
   "outputs": [
    {
     "data": {
      "text/plain": [
       "publico       574779\n",
       "particular    334088\n",
       "taxi           48100\n",
       "Name: transporte_mais_utilizado, dtype: int64"
      ]
     },
     "execution_count": 25,
     "metadata": {},
     "output_type": "execute_result"
    }
   ],
   "source": [
    "individuos.transporte_mais_utilizado.value_counts()"
   ]
  },
  {
   "cell_type": "code",
   "execution_count": 26,
   "id": "caabc40d",
   "metadata": {},
   "outputs": [
    {
     "data": {
      "text/plain": [
       "array(['publico', 'particular', 'taxi', nan], dtype=object)"
      ]
     },
     "execution_count": 26,
     "metadata": {},
     "output_type": "execute_result"
    }
   ],
   "source": [
    "individuos.transporte_mais_utilizado.unique()"
   ]
  },
  {
   "cell_type": "code",
   "execution_count": 27,
   "id": "c069142a",
   "metadata": {},
   "outputs": [
    {
     "data": {
      "text/plain": [
       "43033"
      ]
     },
     "execution_count": 27,
     "metadata": {},
     "output_type": "execute_result"
    }
   ],
   "source": [
    "individuos.transporte_mais_utilizado.isna().sum()"
   ]
  },
  {
   "cell_type": "code",
   "execution_count": 28,
   "id": "e1bdb47a",
   "metadata": {},
   "outputs": [
    {
     "name": "stdout",
     "output_type": "stream",
     "text": [
      "Total of NaN in transporte_mais_utilizado is 4.3%\n"
     ]
    }
   ],
   "source": [
    "percentage_of_NaN('transporte_mais_utilizado', individuos.transporte_mais_utilizado.isna().sum(), len(individuos.transporte_mais_utilizado))"
   ]
  },
  {
   "cell_type": "code",
   "execution_count": null,
   "id": "2e4ee5a3",
   "metadata": {},
   "outputs": [],
   "source": []
  },
  {
   "cell_type": "markdown",
   "id": "86176917",
   "metadata": {},
   "source": [
    "### IMC"
   ]
  },
  {
   "cell_type": "code",
   "execution_count": 29,
   "id": "1b3c5c0a",
   "metadata": {},
   "outputs": [
    {
     "data": {
      "text/plain": [
       "22.200956    1\n",
       "24.871360    1\n",
       "18.411066    1\n",
       "19.620686    1\n",
       "16.019051    1\n",
       "            ..\n",
       "15.615634    1\n",
       "16.882418    1\n",
       "26.658962    1\n",
       "12.955671    1\n",
       "24.018825    1\n",
       "Name: IMC, Length: 886130, dtype: int64"
      ]
     },
     "execution_count": 29,
     "metadata": {},
     "output_type": "execute_result"
    }
   ],
   "source": [
    "individuos.IMC.value_counts()"
   ]
  },
  {
   "cell_type": "code",
   "execution_count": 30,
   "id": "3064cfda",
   "metadata": {},
   "outputs": [
    {
     "data": {
      "text/plain": [
       "113870"
      ]
     },
     "execution_count": 30,
     "metadata": {},
     "output_type": "execute_result"
    }
   ],
   "source": [
    "individuos.IMC.isna().sum()"
   ]
  },
  {
   "cell_type": "code",
   "execution_count": 31,
   "id": "d9e27f42",
   "metadata": {},
   "outputs": [
    {
     "name": "stdout",
     "output_type": "stream",
     "text": [
      "Total of NaN in IMC is 11.39%\n"
     ]
    }
   ],
   "source": [
    "percentage_of_NaN('IMC', individuos.IMC.isna().sum(), len(individuos.IMC))"
   ]
  },
  {
   "cell_type": "code",
   "execution_count": null,
   "id": "4caa2b5e",
   "metadata": {},
   "outputs": [],
   "source": []
  },
  {
   "cell_type": "markdown",
   "id": "ff32add3",
   "metadata": {},
   "source": [
    "### Transforming data"
   ]
  },
  {
   "cell_type": "code",
   "execution_count": 32,
   "id": "0c9647c2",
   "metadata": {},
   "outputs": [],
   "source": [
    "individuos_tf = individuos.copy()"
   ]
  },
  {
   "cell_type": "code",
   "execution_count": 33,
   "id": "668ab171",
   "metadata": {},
   "outputs": [
    {
     "data": {
      "text/html": [
       "<div>\n",
       "<style scoped>\n",
       "    .dataframe tbody tr th:only-of-type {\n",
       "        vertical-align: middle;\n",
       "    }\n",
       "\n",
       "    .dataframe tbody tr th {\n",
       "        vertical-align: top;\n",
       "    }\n",
       "\n",
       "    .dataframe thead th {\n",
       "        text-align: right;\n",
       "    }\n",
       "</style>\n",
       "<table border=\"1\" class=\"dataframe\">\n",
       "  <thead>\n",
       "    <tr style=\"text-align: right;\">\n",
       "      <th></th>\n",
       "      <th>name</th>\n",
       "      <th>idade</th>\n",
       "      <th>estado_civil</th>\n",
       "      <th>qt_filhos</th>\n",
       "      <th>estuda</th>\n",
       "      <th>trabalha</th>\n",
       "      <th>pratica_esportes</th>\n",
       "      <th>transporte_mais_utilizado</th>\n",
       "      <th>IMC</th>\n",
       "    </tr>\n",
       "  </thead>\n",
       "  <tbody>\n",
       "    <tr>\n",
       "      <th>0</th>\n",
       "      <td>1</td>\n",
       "      <td>44.0</td>\n",
       "      <td>divorciado</td>\n",
       "      <td>1.0</td>\n",
       "      <td>1.0</td>\n",
       "      <td>0.0</td>\n",
       "      <td>1.0</td>\n",
       "      <td>publico</td>\n",
       "      <td>22.200956</td>\n",
       "    </tr>\n",
       "    <tr>\n",
       "      <th>1</th>\n",
       "      <td>2</td>\n",
       "      <td>24.0</td>\n",
       "      <td>casado</td>\n",
       "      <td>0.0</td>\n",
       "      <td>0.0</td>\n",
       "      <td>0.0</td>\n",
       "      <td>1.0</td>\n",
       "      <td>publico</td>\n",
       "      <td>25.378720</td>\n",
       "    </tr>\n",
       "    <tr>\n",
       "      <th>2</th>\n",
       "      <td>3</td>\n",
       "      <td>35.0</td>\n",
       "      <td>solteiro</td>\n",
       "      <td>1.0</td>\n",
       "      <td>0.0</td>\n",
       "      <td>0.0</td>\n",
       "      <td>1.0</td>\n",
       "      <td>particular</td>\n",
       "      <td>19.952393</td>\n",
       "    </tr>\n",
       "    <tr>\n",
       "      <th>3</th>\n",
       "      <td>4</td>\n",
       "      <td>50.0</td>\n",
       "      <td>casado</td>\n",
       "      <td>1.0</td>\n",
       "      <td>1.0</td>\n",
       "      <td>1.0</td>\n",
       "      <td>0.0</td>\n",
       "      <td>publico</td>\n",
       "      <td>26.732053</td>\n",
       "    </tr>\n",
       "    <tr>\n",
       "      <th>4</th>\n",
       "      <td>5</td>\n",
       "      <td>30.0</td>\n",
       "      <td>solteiro</td>\n",
       "      <td>2.0</td>\n",
       "      <td>1.0</td>\n",
       "      <td>0.0</td>\n",
       "      <td>1.0</td>\n",
       "      <td>publico</td>\n",
       "      <td>15.295668</td>\n",
       "    </tr>\n",
       "  </tbody>\n",
       "</table>\n",
       "</div>"
      ],
      "text/plain": [
       "   name  idade estado_civil  qt_filhos  estuda  trabalha  pratica_esportes  \\\n",
       "0     1   44.0   divorciado        1.0     1.0       0.0               1.0   \n",
       "1     2   24.0       casado        0.0     0.0       0.0               1.0   \n",
       "2     3   35.0     solteiro        1.0     0.0       0.0               1.0   \n",
       "3     4   50.0       casado        1.0     1.0       1.0               0.0   \n",
       "4     5   30.0     solteiro        2.0     1.0       0.0               1.0   \n",
       "\n",
       "  transporte_mais_utilizado        IMC  \n",
       "0                   publico  22.200956  \n",
       "1                   publico  25.378720  \n",
       "2                particular  19.952393  \n",
       "3                   publico  26.732053  \n",
       "4                   publico  15.295668  "
      ]
     },
     "execution_count": 33,
     "metadata": {},
     "output_type": "execute_result"
    }
   ],
   "source": [
    "individuos_tf.head()"
   ]
  },
  {
   "cell_type": "code",
   "execution_count": 34,
   "id": "de38b7ef",
   "metadata": {},
   "outputs": [],
   "source": [
    "individuos_tf['idade'] = individuos_tf.idade.fillna(method=\"ffill\")\n",
    "individuos_tf['estado_civil'] = individuos_tf.estado_civil.fillna(method=\"ffill\")\n",
    "individuos_tf['qt_filhos'] = individuos_tf.qt_filhos.fillna(method=\"ffill\")\n",
    "individuos_tf['estuda'] = individuos_tf.estuda.fillna(method=\"ffill\")\n",
    "individuos_tf['trabalha'] = individuos_tf.trabalha.fillna(method=\"ffill\")\n",
    "individuos_tf['pratica_esportes'] = individuos_tf.pratica_esportes.fillna(method=\"ffill\")\n",
    "individuos_tf['transporte_mais_utilizado'] = individuos_tf.transporte_mais_utilizado.fillna(method=\"ffill\")\n",
    "individuos_tf['IMC'] = individuos_tf.IMC.fillna(method=\"ffill\")"
   ]
  },
  {
   "cell_type": "code",
   "execution_count": 35,
   "id": "aa131e6b",
   "metadata": {},
   "outputs": [],
   "source": [
    "# Transforming the field transporte_mais_utilizado\n",
    "# publico=0, particular=1, taxi=2\n",
    "\n",
    "individuos_tf['transporte_mais_utilizado'] = (\n",
    "    np.select(\n",
    "        condlist=[individuos['transporte_mais_utilizado'] == \"particular\", individuos['transporte_mais_utilizado'] == \"taxi\"], \n",
    "        choicelist=[1, 2], \n",
    "        default=0))"
   ]
  },
  {
   "cell_type": "code",
   "execution_count": 36,
   "id": "4cab2fcc",
   "metadata": {},
   "outputs": [
    {
     "data": {
      "text/plain": [
       "0    617812\n",
       "1    334088\n",
       "2     48100\n",
       "Name: transporte_mais_utilizado, dtype: int64"
      ]
     },
     "execution_count": 36,
     "metadata": {},
     "output_type": "execute_result"
    }
   ],
   "source": [
    "individuos_tf.transporte_mais_utilizado.value_counts()"
   ]
  },
  {
   "cell_type": "code",
   "execution_count": 37,
   "id": "873e29af",
   "metadata": {},
   "outputs": [],
   "source": [
    "# Transforming the field estado_civil\n",
    "# solteiro=0, casado=1, divorciado=2, viuvo=3\n",
    "\n",
    "individuos_tf['estado_civil'] = (\n",
    "    np.select(\n",
    "        condlist=[individuos['estado_civil'] == \"casado\", individuos['estado_civil'] == \"divorciado\", individuos['estado_civil'] == \"viuvo\"], \n",
    "        choicelist=[1, 2, 3],\n",
    "        default=0))"
   ]
  },
  {
   "cell_type": "code",
   "execution_count": 38,
   "id": "f038a89d",
   "metadata": {},
   "outputs": [
    {
     "data": {
      "text/plain": [
       "0    470710\n",
       "1    265030\n",
       "2    176054\n",
       "3     88206\n",
       "Name: estado_civil, dtype: int64"
      ]
     },
     "execution_count": 38,
     "metadata": {},
     "output_type": "execute_result"
    }
   ],
   "source": [
    "individuos_tf.estado_civil.value_counts()"
   ]
  },
  {
   "cell_type": "code",
   "execution_count": 39,
   "id": "af27c999",
   "metadata": {},
   "outputs": [
    {
     "data": {
      "text/html": [
       "<div>\n",
       "<style scoped>\n",
       "    .dataframe tbody tr th:only-of-type {\n",
       "        vertical-align: middle;\n",
       "    }\n",
       "\n",
       "    .dataframe tbody tr th {\n",
       "        vertical-align: top;\n",
       "    }\n",
       "\n",
       "    .dataframe thead th {\n",
       "        text-align: right;\n",
       "    }\n",
       "</style>\n",
       "<table border=\"1\" class=\"dataframe\">\n",
       "  <thead>\n",
       "    <tr style=\"text-align: right;\">\n",
       "      <th></th>\n",
       "      <th>name</th>\n",
       "      <th>idade</th>\n",
       "      <th>estado_civil</th>\n",
       "      <th>qt_filhos</th>\n",
       "      <th>estuda</th>\n",
       "      <th>trabalha</th>\n",
       "      <th>pratica_esportes</th>\n",
       "      <th>transporte_mais_utilizado</th>\n",
       "      <th>IMC</th>\n",
       "    </tr>\n",
       "  </thead>\n",
       "  <tbody>\n",
       "    <tr>\n",
       "      <th>0</th>\n",
       "      <td>1</td>\n",
       "      <td>44.0</td>\n",
       "      <td>2</td>\n",
       "      <td>1.0</td>\n",
       "      <td>1.0</td>\n",
       "      <td>0.0</td>\n",
       "      <td>1.0</td>\n",
       "      <td>0</td>\n",
       "      <td>22.200956</td>\n",
       "    </tr>\n",
       "    <tr>\n",
       "      <th>1</th>\n",
       "      <td>2</td>\n",
       "      <td>24.0</td>\n",
       "      <td>1</td>\n",
       "      <td>0.0</td>\n",
       "      <td>0.0</td>\n",
       "      <td>0.0</td>\n",
       "      <td>1.0</td>\n",
       "      <td>0</td>\n",
       "      <td>25.378720</td>\n",
       "    </tr>\n",
       "    <tr>\n",
       "      <th>2</th>\n",
       "      <td>3</td>\n",
       "      <td>35.0</td>\n",
       "      <td>0</td>\n",
       "      <td>1.0</td>\n",
       "      <td>0.0</td>\n",
       "      <td>0.0</td>\n",
       "      <td>1.0</td>\n",
       "      <td>1</td>\n",
       "      <td>19.952393</td>\n",
       "    </tr>\n",
       "    <tr>\n",
       "      <th>3</th>\n",
       "      <td>4</td>\n",
       "      <td>50.0</td>\n",
       "      <td>1</td>\n",
       "      <td>1.0</td>\n",
       "      <td>1.0</td>\n",
       "      <td>1.0</td>\n",
       "      <td>0.0</td>\n",
       "      <td>0</td>\n",
       "      <td>26.732053</td>\n",
       "    </tr>\n",
       "    <tr>\n",
       "      <th>4</th>\n",
       "      <td>5</td>\n",
       "      <td>30.0</td>\n",
       "      <td>0</td>\n",
       "      <td>2.0</td>\n",
       "      <td>1.0</td>\n",
       "      <td>0.0</td>\n",
       "      <td>1.0</td>\n",
       "      <td>0</td>\n",
       "      <td>15.295668</td>\n",
       "    </tr>\n",
       "  </tbody>\n",
       "</table>\n",
       "</div>"
      ],
      "text/plain": [
       "   name  idade  estado_civil  qt_filhos  estuda  trabalha  pratica_esportes  \\\n",
       "0     1   44.0             2        1.0     1.0       0.0               1.0   \n",
       "1     2   24.0             1        0.0     0.0       0.0               1.0   \n",
       "2     3   35.0             0        1.0     0.0       0.0               1.0   \n",
       "3     4   50.0             1        1.0     1.0       1.0               0.0   \n",
       "4     5   30.0             0        2.0     1.0       0.0               1.0   \n",
       "\n",
       "   transporte_mais_utilizado        IMC  \n",
       "0                          0  22.200956  \n",
       "1                          0  25.378720  \n",
       "2                          1  19.952393  \n",
       "3                          0  26.732053  \n",
       "4                          0  15.295668  "
      ]
     },
     "execution_count": 39,
     "metadata": {},
     "output_type": "execute_result"
    }
   ],
   "source": [
    "individuos_tf.head()"
   ]
  },
  {
   "cell_type": "code",
   "execution_count": 40,
   "id": "cbcd3d58",
   "metadata": {},
   "outputs": [
    {
     "name": "stdout",
     "output_type": "stream",
     "text": [
      "Total of NaN in idade is 0.0%\n",
      "Total of NaN in estado_civil is 0.0%\n",
      "Total of NaN in qt_filhos is 0.0%\n",
      "Total of NaN in estuda is 0.0%\n",
      "Total of NaN in trabalha is 0.0%\n",
      "Total of NaN in pratica_esportes is 0.0%\n",
      "Total of NaN in transporte_mais_utilizado is 0.0%\n",
      "Total of NaN in IMC is 0.0%\n"
     ]
    }
   ],
   "source": [
    "percentage_of_NaN('idade', individuos_tf.idade.isna().sum(), len(individuos_tf.idade))\n",
    "percentage_of_NaN('estado_civil', individuos_tf.estado_civil.isna().sum(), len(individuos_tf.estado_civil))\n",
    "percentage_of_NaN('qt_filhos', individuos_tf.qt_filhos.isna().sum(), len(individuos_tf.qt_filhos))\n",
    "percentage_of_NaN('estuda', individuos_tf.estuda.isna().sum(), len(individuos_tf.estuda))\n",
    "percentage_of_NaN('trabalha', individuos_tf.trabalha.isna().sum(), len(individuos_tf.trabalha))\n",
    "percentage_of_NaN('pratica_esportes', individuos_tf.pratica_esportes.isna().sum(), len(individuos_tf.pratica_esportes))\n",
    "percentage_of_NaN('transporte_mais_utilizado', individuos_tf.transporte_mais_utilizado.isna().sum(), len(individuos_tf.transporte_mais_utilizado))\n",
    "percentage_of_NaN('IMC', individuos_tf.IMC.isna().sum(), len(individuos_tf.IMC))"
   ]
  },
  {
   "cell_type": "code",
   "execution_count": 41,
   "id": "5e3cc95f",
   "metadata": {},
   "outputs": [
    {
     "name": "stdout",
     "output_type": "stream",
     "text": [
      "Export succeeded.\n"
     ]
    }
   ],
   "source": [
    "individuos_tf.to_csv('database/individuos_tf.csv', index=False)\n",
    "print(\"Export succeeded.\")"
   ]
  },
  {
   "cell_type": "code",
   "execution_count": 42,
   "id": "0d1100d6",
   "metadata": {},
   "outputs": [],
   "source": [
    "# import plotly.express as px\n",
    "\n",
    "# fig = px.parallel_coordinates(individuos[[\"idade\",\"estado_civil_tf\",\"qt_filhos\",\"transporte_mais_utilizado_tf\"]], color=\"transporte_mais_utilizado_tf\", \n",
    "#                               labels={\"idade\": \"Idade\",\"estado_civil_tf\": \"Estado Civil\", \"qt_filhos\": \"Qt de Filhos\", \n",
    "#                                       \"transporte_mais_utilizado_tf\": \"Transporte\"},\n",
    "#                     color_continuous_scale=px.colors.diverging.Tealrose, color_continuous_midpoint=1)\n",
    "# fig.show()"
   ]
  },
  {
   "cell_type": "code",
   "execution_count": null,
   "id": "7227608e",
   "metadata": {},
   "outputs": [],
   "source": []
  },
  {
   "cell_type": "code",
   "execution_count": null,
   "id": "af0db3a3",
   "metadata": {},
   "outputs": [],
   "source": []
  },
  {
   "cell_type": "markdown",
   "id": "ac87ecbd",
   "metadata": {},
   "source": [
    "# Conexoes"
   ]
  },
  {
   "cell_type": "code",
   "execution_count": 43,
   "id": "20fac436",
   "metadata": {},
   "outputs": [
    {
     "data": {
      "text/html": [
       "<div>\n",
       "<style scoped>\n",
       "    .dataframe tbody tr th:only-of-type {\n",
       "        vertical-align: middle;\n",
       "    }\n",
       "\n",
       "    .dataframe tbody tr th {\n",
       "        vertical-align: top;\n",
       "    }\n",
       "\n",
       "    .dataframe thead th {\n",
       "        text-align: right;\n",
       "    }\n",
       "</style>\n",
       "<table border=\"1\" class=\"dataframe\">\n",
       "  <thead>\n",
       "    <tr style=\"text-align: right;\">\n",
       "      <th></th>\n",
       "      <th>V1</th>\n",
       "      <th>V2</th>\n",
       "      <th>grau</th>\n",
       "      <th>proximidade</th>\n",
       "      <th>prob_V1_V2</th>\n",
       "    </tr>\n",
       "  </thead>\n",
       "  <tbody>\n",
       "    <tr>\n",
       "      <th>0</th>\n",
       "      <td>1</td>\n",
       "      <td>2</td>\n",
       "      <td>trabalho</td>\n",
       "      <td>visita_frequente</td>\n",
       "      <td>0.589462</td>\n",
       "    </tr>\n",
       "    <tr>\n",
       "      <th>1</th>\n",
       "      <td>1</td>\n",
       "      <td>3</td>\n",
       "      <td>trabalho</td>\n",
       "      <td>visita_rara</td>\n",
       "      <td>0.708465</td>\n",
       "    </tr>\n",
       "    <tr>\n",
       "      <th>2</th>\n",
       "      <td>2</td>\n",
       "      <td>4</td>\n",
       "      <td>trabalho</td>\n",
       "      <td>visita_casual</td>\n",
       "      <td>NaN</td>\n",
       "    </tr>\n",
       "    <tr>\n",
       "      <th>3</th>\n",
       "      <td>2</td>\n",
       "      <td>5</td>\n",
       "      <td>trabalho</td>\n",
       "      <td>visita_rara</td>\n",
       "      <td>0.638842</td>\n",
       "    </tr>\n",
       "    <tr>\n",
       "      <th>4</th>\n",
       "      <td>3</td>\n",
       "      <td>6</td>\n",
       "      <td>amigos</td>\n",
       "      <td>mora_junto</td>\n",
       "      <td>NaN</td>\n",
       "    </tr>\n",
       "  </tbody>\n",
       "</table>\n",
       "</div>"
      ],
      "text/plain": [
       "   V1  V2      grau       proximidade  prob_V1_V2\n",
       "0   1   2  trabalho  visita_frequente    0.589462\n",
       "1   1   3  trabalho       visita_rara    0.708465\n",
       "2   2   4  trabalho     visita_casual         NaN\n",
       "3   2   5  trabalho       visita_rara    0.638842\n",
       "4   3   6    amigos        mora_junto         NaN"
      ]
     },
     "execution_count": 43,
     "metadata": {},
     "output_type": "execute_result"
    }
   ],
   "source": [
    "conexoes = pd.read_csv('database/conexoes_espec.csv', sep=';')\n",
    "conexoes.head()"
   ]
  },
  {
   "cell_type": "code",
   "execution_count": 44,
   "id": "d0910a0b",
   "metadata": {},
   "outputs": [
    {
     "name": "stdout",
     "output_type": "stream",
     "text": [
      "Total of NaN in V1 is 0.0%\n",
      "Total of NaN in V2 is 0.0%\n",
      "Total of NaN in grau is 0.0%\n",
      "Total of NaN in proximidade is 0.0%\n",
      "Total of NaN in prob_V1_V2 is 50.0%\n"
     ]
    }
   ],
   "source": [
    "percentage_of_NaN('V1', conexoes.V1.isna().sum(), len(conexoes.V1))\n",
    "percentage_of_NaN('V2', conexoes.V2.isna().sum(), len(conexoes.V2))\n",
    "percentage_of_NaN('grau', conexoes.grau.isna().sum(), len(conexoes.grau))\n",
    "percentage_of_NaN('proximidade', conexoes.proximidade.isna().sum(), len(conexoes.proximidade))\n",
    "percentage_of_NaN('prob_V1_V2', conexoes.prob_V1_V2.isna().sum(), len(conexoes.prob_V1_V2))"
   ]
  },
  {
   "cell_type": "code",
   "execution_count": null,
   "id": "d97f6834",
   "metadata": {},
   "outputs": [],
   "source": []
  },
  {
   "cell_type": "code",
   "execution_count": 45,
   "id": "9cf3a5a7",
   "metadata": {},
   "outputs": [
    {
     "data": {
      "text/plain": [
       "500000"
      ]
     },
     "execution_count": 45,
     "metadata": {},
     "output_type": "execute_result"
    }
   ],
   "source": [
    "unknown_conexoes = conexoes[conexoes['prob_V1_V2'].isna()]\n",
    "len(unknown_conexoes)"
   ]
  },
  {
   "cell_type": "code",
   "execution_count": 46,
   "id": "97c27718",
   "metadata": {},
   "outputs": [
    {
     "name": "stdout",
     "output_type": "stream",
     "text": [
      "Export succeeded.\n"
     ]
    }
   ],
   "source": [
    "unknown_conexoes.to_csv('database/unknown_conexoes.csv', index=False)\n",
    "print(\"Export succeeded.\")"
   ]
  },
  {
   "cell_type": "code",
   "execution_count": 47,
   "id": "28815598",
   "metadata": {},
   "outputs": [
    {
     "data": {
      "text/plain": [
       "499999"
      ]
     },
     "execution_count": 47,
     "metadata": {},
     "output_type": "execute_result"
    }
   ],
   "source": [
    "filled_conexoes = conexoes[conexoes['prob_V1_V2'].notna()]\n",
    "len(filled_conexoes)"
   ]
  },
  {
   "cell_type": "code",
   "execution_count": 48,
   "id": "09a1fd07",
   "metadata": {},
   "outputs": [
    {
     "name": "stdout",
     "output_type": "stream",
     "text": [
      "Export succeeded.\n"
     ]
    }
   ],
   "source": [
    "filled_conexoes.to_csv('database/filled_conexoes.csv', index=False)\n",
    "print(\"Export succeeded.\")"
   ]
  },
  {
   "cell_type": "code",
   "execution_count": null,
   "id": "a898374d",
   "metadata": {},
   "outputs": [],
   "source": []
  },
  {
   "cell_type": "code",
   "execution_count": 49,
   "id": "926f5202",
   "metadata": {},
   "outputs": [
    {
     "data": {
      "text/plain": [
       "trabalho    166953\n",
       "familia     166609\n",
       "amigos      166437\n",
       "Name: grau, dtype: int64"
      ]
     },
     "execution_count": 49,
     "metadata": {},
     "output_type": "execute_result"
    }
   ],
   "source": [
    "filled_conexoes.grau.value_counts()"
   ]
  },
  {
   "cell_type": "code",
   "execution_count": 50,
   "id": "6d02ffbf",
   "metadata": {},
   "outputs": [
    {
     "data": {
      "text/plain": [
       "visita_rara         200291\n",
       "visita_casual       150365\n",
       "visita_frequente     99452\n",
       "mora_junto           49891\n",
       "Name: proximidade, dtype: int64"
      ]
     },
     "execution_count": 50,
     "metadata": {},
     "output_type": "execute_result"
    }
   ],
   "source": [
    "filled_conexoes.proximidade.value_counts()"
   ]
  },
  {
   "cell_type": "code",
   "execution_count": null,
   "id": "2325ff99",
   "metadata": {},
   "outputs": [],
   "source": []
  },
  {
   "cell_type": "markdown",
   "id": "7d4e4f1e",
   "metadata": {},
   "source": [
    "## Group by analizes"
   ]
  },
  {
   "cell_type": "code",
   "execution_count": 51,
   "id": "9568b8e9",
   "metadata": {},
   "outputs": [],
   "source": [
    "by_grau = filled_conexoes.groupby(['grau'])"
   ]
  },
  {
   "cell_type": "code",
   "execution_count": 52,
   "id": "eeaf566a",
   "metadata": {},
   "outputs": [
    {
     "data": {
      "text/html": [
       "<div>\n",
       "<style scoped>\n",
       "    .dataframe tbody tr th:only-of-type {\n",
       "        vertical-align: middle;\n",
       "    }\n",
       "\n",
       "    .dataframe tbody tr th {\n",
       "        vertical-align: top;\n",
       "    }\n",
       "\n",
       "    .dataframe thead th {\n",
       "        text-align: right;\n",
       "    }\n",
       "</style>\n",
       "<table border=\"1\" class=\"dataframe\">\n",
       "  <thead>\n",
       "    <tr style=\"text-align: right;\">\n",
       "      <th></th>\n",
       "      <th>count</th>\n",
       "      <th>mean</th>\n",
       "      <th>std</th>\n",
       "      <th>min</th>\n",
       "      <th>25%</th>\n",
       "      <th>50%</th>\n",
       "      <th>75%</th>\n",
       "      <th>max</th>\n",
       "    </tr>\n",
       "    <tr>\n",
       "      <th>grau</th>\n",
       "      <th></th>\n",
       "      <th></th>\n",
       "      <th></th>\n",
       "      <th></th>\n",
       "      <th></th>\n",
       "      <th></th>\n",
       "      <th></th>\n",
       "      <th></th>\n",
       "    </tr>\n",
       "  </thead>\n",
       "  <tbody>\n",
       "    <tr>\n",
       "      <th>amigos</th>\n",
       "      <td>166437.0</td>\n",
       "      <td>0.512242</td>\n",
       "      <td>0.158313</td>\n",
       "      <td>0.099979</td>\n",
       "      <td>0.393160</td>\n",
       "      <td>0.515072</td>\n",
       "      <td>0.629889</td>\n",
       "      <td>0.925766</td>\n",
       "    </tr>\n",
       "    <tr>\n",
       "      <th>familia</th>\n",
       "      <td>166609.0</td>\n",
       "      <td>0.431625</td>\n",
       "      <td>0.195729</td>\n",
       "      <td>0.074462</td>\n",
       "      <td>0.276380</td>\n",
       "      <td>0.407497</td>\n",
       "      <td>0.576753</td>\n",
       "      <td>0.942245</td>\n",
       "    </tr>\n",
       "    <tr>\n",
       "      <th>trabalho</th>\n",
       "      <td>166953.0</td>\n",
       "      <td>0.511592</td>\n",
       "      <td>0.152077</td>\n",
       "      <td>0.123167</td>\n",
       "      <td>0.397271</td>\n",
       "      <td>0.514113</td>\n",
       "      <td>0.630288</td>\n",
       "      <td>0.907455</td>\n",
       "    </tr>\n",
       "  </tbody>\n",
       "</table>\n",
       "</div>"
      ],
      "text/plain": [
       "             count      mean       std       min       25%       50%  \\\n",
       "grau                                                                   \n",
       "amigos    166437.0  0.512242  0.158313  0.099979  0.393160  0.515072   \n",
       "familia   166609.0  0.431625  0.195729  0.074462  0.276380  0.407497   \n",
       "trabalho  166953.0  0.511592  0.152077  0.123167  0.397271  0.514113   \n",
       "\n",
       "               75%       max  \n",
       "grau                          \n",
       "amigos    0.629889  0.925766  \n",
       "familia   0.576753  0.942245  \n",
       "trabalho  0.630288  0.907455  "
      ]
     },
     "execution_count": 52,
     "metadata": {},
     "output_type": "execute_result"
    }
   ],
   "source": [
    "by_grau['prob_V1_V2'].describe()"
   ]
  },
  {
   "cell_type": "code",
   "execution_count": 53,
   "id": "3beb2d06",
   "metadata": {},
   "outputs": [
    {
     "data": {
      "text/plain": [
       "\"Com base no groupby relacionado a grau, eh possivel observar que o quantil Q1 do grau 'familia' eh cerca de 12% menor \\no que os de grau 'amigos' e 'trabalho'. Similarmente, o quantil Q2 do grau 'familia' eh cerca de 11% menor o que os \\nde grau 'amigos' e 'trabalho'. Por fim, o quantil Q3 do grau 'familia' eh cerca de 6% menor o que os de grau 'amigos' \\ne 'trabalho'. Observa-se tambem que a media de contagio do grau eh cerca de 8% menor do que nos demais graus.\""
      ]
     },
     "execution_count": 53,
     "metadata": {},
     "output_type": "execute_result"
    }
   ],
   "source": [
    "'''Com base no groupby relacionado a grau, eh possivel observar que o quantil Q1 do grau 'familia' eh cerca de 12% menor \n",
    "o que os de grau 'amigos' e 'trabalho'. Similarmente, o quantil Q2 do grau 'familia' eh cerca de 11% menor o que os \n",
    "de grau 'amigos' e 'trabalho'. Por fim, o quantil Q3 do grau 'familia' eh cerca de 6% menor o que os de grau 'amigos' \n",
    "e 'trabalho'. Observa-se tambem que a media de contagio do grau eh cerca de 8% menor do que nos demais graus.'''"
   ]
  },
  {
   "cell_type": "code",
   "execution_count": null,
   "id": "3ee4a25e",
   "metadata": {},
   "outputs": [],
   "source": []
  },
  {
   "cell_type": "code",
   "execution_count": 54,
   "id": "4a716514",
   "metadata": {},
   "outputs": [
    {
     "data": {
      "text/plain": [
       "amigos           AxesSubplot(0.1,0.559091;0.363636x0.340909)\n",
       "familia     AxesSubplot(0.536364,0.559091;0.363636x0.340909)\n",
       "trabalho             AxesSubplot(0.1,0.15;0.363636x0.340909)\n",
       "dtype: object"
      ]
     },
     "execution_count": 54,
     "metadata": {},
     "output_type": "execute_result"
    },
    {
     "data": {
      "image/png": "[encoded data removed]",
      "text/plain": [
       "<Figure size 432x288 with 4 Axes>"
      ]
     },
     "metadata": {
      "needs_background": "light"
     },
     "output_type": "display_data"
    }
   ],
   "source": [
    "by_grau.boxplot(column=['prob_V1_V2'], by=['grau'])"
   ]
  },
  {
   "cell_type": "code",
   "execution_count": null,
   "id": "07490f29",
   "metadata": {},
   "outputs": [],
   "source": []
  },
  {
   "cell_type": "code",
   "execution_count": null,
   "id": "dd88d5de",
   "metadata": {},
   "outputs": [],
   "source": []
  },
  {
   "cell_type": "code",
   "execution_count": 55,
   "id": "8d7edd6b",
   "metadata": {},
   "outputs": [],
   "source": [
    "by_proximidade = filled_conexoes.groupby(['proximidade'])"
   ]
  },
  {
   "cell_type": "code",
   "execution_count": 56,
   "id": "e84b506d",
   "metadata": {},
   "outputs": [
    {
     "data": {
      "text/html": [
       "<div>\n",
       "<style scoped>\n",
       "    .dataframe tbody tr th:only-of-type {\n",
       "        vertical-align: middle;\n",
       "    }\n",
       "\n",
       "    .dataframe tbody tr th {\n",
       "        vertical-align: top;\n",
       "    }\n",
       "\n",
       "    .dataframe thead th {\n",
       "        text-align: right;\n",
       "    }\n",
       "</style>\n",
       "<table border=\"1\" class=\"dataframe\">\n",
       "  <thead>\n",
       "    <tr style=\"text-align: right;\">\n",
       "      <th></th>\n",
       "      <th>count</th>\n",
       "      <th>mean</th>\n",
       "      <th>std</th>\n",
       "      <th>min</th>\n",
       "      <th>25%</th>\n",
       "      <th>50%</th>\n",
       "      <th>75%</th>\n",
       "      <th>max</th>\n",
       "    </tr>\n",
       "    <tr>\n",
       "      <th>proximidade</th>\n",
       "      <th></th>\n",
       "      <th></th>\n",
       "      <th></th>\n",
       "      <th></th>\n",
       "      <th></th>\n",
       "      <th></th>\n",
       "      <th></th>\n",
       "      <th></th>\n",
       "    </tr>\n",
       "  </thead>\n",
       "  <tbody>\n",
       "    <tr>\n",
       "      <th>mora_junto</th>\n",
       "      <td>49891.0</td>\n",
       "      <td>0.382328</td>\n",
       "      <td>0.149380</td>\n",
       "      <td>0.074913</td>\n",
       "      <td>0.268216</td>\n",
       "      <td>0.371606</td>\n",
       "      <td>0.483781</td>\n",
       "      <td>0.868571</td>\n",
       "    </tr>\n",
       "    <tr>\n",
       "      <th>visita_casual</th>\n",
       "      <td>150365.0</td>\n",
       "      <td>0.571399</td>\n",
       "      <td>0.154709</td>\n",
       "      <td>0.163618</td>\n",
       "      <td>0.460240</td>\n",
       "      <td>0.574924</td>\n",
       "      <td>0.686536</td>\n",
       "      <td>0.942245</td>\n",
       "    </tr>\n",
       "    <tr>\n",
       "      <th>visita_frequente</th>\n",
       "      <td>99452.0</td>\n",
       "      <td>0.484812</td>\n",
       "      <td>0.164654</td>\n",
       "      <td>0.094633</td>\n",
       "      <td>0.360929</td>\n",
       "      <td>0.487137</td>\n",
       "      <td>0.606748</td>\n",
       "      <td>0.918578</td>\n",
       "    </tr>\n",
       "    <tr>\n",
       "      <th>visita_rara</th>\n",
       "      <td>200291.0</td>\n",
       "      <td>0.446209</td>\n",
       "      <td>0.169778</td>\n",
       "      <td>0.074462</td>\n",
       "      <td>0.314883</td>\n",
       "      <td>0.443652</td>\n",
       "      <td>0.570825</td>\n",
       "      <td>0.907056</td>\n",
       "    </tr>\n",
       "  </tbody>\n",
       "</table>\n",
       "</div>"
      ],
      "text/plain": [
       "                     count      mean       std       min       25%       50%  \\\n",
       "proximidade                                                                    \n",
       "mora_junto         49891.0  0.382328  0.149380  0.074913  0.268216  0.371606   \n",
       "visita_casual     150365.0  0.571399  0.154709  0.163618  0.460240  0.574924   \n",
       "visita_frequente   99452.0  0.484812  0.164654  0.094633  0.360929  0.487137   \n",
       "visita_rara       200291.0  0.446209  0.169778  0.074462  0.314883  0.443652   \n",
       "\n",
       "                       75%       max  \n",
       "proximidade                           \n",
       "mora_junto        0.483781  0.868571  \n",
       "visita_casual     0.686536  0.942245  \n",
       "visita_frequente  0.606748  0.918578  \n",
       "visita_rara       0.570825  0.907056  "
      ]
     },
     "execution_count": 56,
     "metadata": {},
     "output_type": "execute_result"
    }
   ],
   "source": [
    "by_proximidade['prob_V1_V2'].describe()"
   ]
  },
  {
   "cell_type": "code",
   "execution_count": 57,
   "id": "6c6aa871",
   "metadata": {},
   "outputs": [
    {
     "data": {
      "text/plain": [
       "'Com base no groupby relacionado a proximdade, eh possivel observar em relacao ao quantil Q1: individuos que moram \\njuntos apresentam a menor porcentagem de contagio, sendo esta cerca de 5% menor do que a segunda mais baixa, que eh dos \\nindividuos que se veem raramente. Ainda sobre o Q1, observa-se que os individuos que se veem frequentemente apresentam \\nindice no Q1 10% maior do que os que moram junto. Por fim, em relacao o quantil Q1, os individuos que se veem casualmente\\nsao aquele com maior indice de contagio, sendo este 20% em relacao aos individuos que moram juntos. Podemos observar a \\nmesma relacao descrita sobre os quantil Q1 nos quatis Q2 e Q3 como alguma variancia nas porbabilidades, porem mantendo\\na ordem de contagio descrita anteriormente. Por fim, observamos que em media os individuos que moram juntos sao aqueles \\nque apresentam o menor indice de contagio, sendo este de 38.23%, enquanto os individuos que se veem casualmente apresentao\\na maior media de contagio, sendo esta de 57.13%'"
      ]
     },
     "execution_count": 57,
     "metadata": {},
     "output_type": "execute_result"
    }
   ],
   "source": [
    "'''Com base no groupby relacionado a proximdade, eh possivel observar em relacao ao quantil Q1: individuos que moram \n",
    "juntos apresentam a menor porcentagem de contagio, sendo esta cerca de 5% menor do que a segunda mais baixa, que eh dos \n",
    "individuos que se veem raramente. Ainda sobre o Q1, observa-se que os individuos que se veem frequentemente apresentam \n",
    "indice no Q1 10% maior do que os que moram junto. Por fim, em relacao o quantil Q1, os individuos que se veem casualmente\n",
    "sao aquele com maior indice de contagio, sendo este 20% em relacao aos individuos que moram juntos. Podemos observar a \n",
    "mesma relacao descrita sobre os quantil Q1 nos quatis Q2 e Q3 como alguma variancia nas porbabilidades, porem mantendo\n",
    "a ordem de contagio descrita anteriormente. Por fim, observamos que em media os individuos que moram juntos sao aqueles \n",
    "que apresentam o menor indice de contagio, sendo este de 38.23%, enquanto os individuos que se veem casualmente apresentao\n",
    "a maior media de contagio, sendo esta de 57.13%'''"
   ]
  },
  {
   "cell_type": "code",
   "execution_count": null,
   "id": "661b9132",
   "metadata": {},
   "outputs": [],
   "source": []
  },
  {
   "cell_type": "code",
   "execution_count": 58,
   "id": "67ac20ac",
   "metadata": {},
   "outputs": [
    {
     "data": {
      "text/plain": [
       "mora_junto               AxesSubplot(0.1,0.559091;0.363636x0.340909)\n",
       "visita_casual       AxesSubplot(0.536364,0.559091;0.363636x0.340909)\n",
       "visita_frequente             AxesSubplot(0.1,0.15;0.363636x0.340909)\n",
       "visita_rara             AxesSubplot(0.536364,0.15;0.363636x0.340909)\n",
       "dtype: object"
      ]
     },
     "execution_count": 58,
     "metadata": {},
     "output_type": "execute_result"
    },
    {
     "data": {
      "image/png": "[encoded data removed]",
      "text/plain": [
       "<Figure size 432x288 with 4 Axes>"
      ]
     },
     "metadata": {
      "needs_background": "light"
     },
     "output_type": "display_data"
    }
   ],
   "source": [
    "by_proximidade.boxplot(column=['prob_V1_V2'], by=['proximidade'])"
   ]
  },
  {
   "cell_type": "code",
   "execution_count": null,
   "id": "7a401278",
   "metadata": {},
   "outputs": [],
   "source": []
  }
 ],
 "metadata": {
  "kernelspec": {
   "display_name": "Python 3",
   "language": "python",
   "name": "python3"
  },
  "language_info": {
   "codemirror_mode": {
    "name": "ipython",
    "version": 3
   },
   "file_extension": ".py",
   "mimetype": "text/x-python",
   "name": "python",
   "nbconvert_exporter": "python",
   "pygments_lexer": "ipython3",
   "version": "3.8.1"
  }
 },
 "nbformat": 4,
 "nbformat_minor": 5
}
