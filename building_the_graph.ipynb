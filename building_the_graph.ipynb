{
 "cells": [
  {
   "cell_type": "code",
   "execution_count": 1,
   "id": "6ab5b9a3",
   "metadata": {},
   "outputs": [],
   "source": [
    "import pandas as pd\n",
    "import numpy as np\n",
    "import seaborn as sns\n",
    "import matplotlib.pyplot as plt"
   ]
  },
  {
   "cell_type": "code",
   "execution_count": 2,
   "id": "03b341df",
   "metadata": {},
   "outputs": [
    {
     "data": {
      "text/html": [
       "<div>\n",
       "<style scoped>\n",
       "    .dataframe tbody tr th:only-of-type {\n",
       "        vertical-align: middle;\n",
       "    }\n",
       "\n",
       "    .dataframe tbody tr th {\n",
       "        vertical-align: top;\n",
       "    }\n",
       "\n",
       "    .dataframe thead th {\n",
       "        text-align: right;\n",
       "    }\n",
       "</style>\n",
       "<table border=\"1\" class=\"dataframe\">\n",
       "  <thead>\n",
       "    <tr style=\"text-align: right;\">\n",
       "      <th></th>\n",
       "      <th>V1</th>\n",
       "      <th>V2</th>\n",
       "      <th>grau</th>\n",
       "      <th>proximidade</th>\n",
       "      <th>prob_V1_V2</th>\n",
       "    </tr>\n",
       "  </thead>\n",
       "  <tbody>\n",
       "    <tr>\n",
       "      <th>0</th>\n",
       "      <td>1</td>\n",
       "      <td>2</td>\n",
       "      <td>trabalho</td>\n",
       "      <td>visita_frequente</td>\n",
       "      <td>0.589462</td>\n",
       "    </tr>\n",
       "    <tr>\n",
       "      <th>1</th>\n",
       "      <td>1</td>\n",
       "      <td>3</td>\n",
       "      <td>trabalho</td>\n",
       "      <td>visita_rara</td>\n",
       "      <td>0.708465</td>\n",
       "    </tr>\n",
       "    <tr>\n",
       "      <th>2</th>\n",
       "      <td>2</td>\n",
       "      <td>4</td>\n",
       "      <td>trabalho</td>\n",
       "      <td>visita_casual</td>\n",
       "      <td>NaN</td>\n",
       "    </tr>\n",
       "    <tr>\n",
       "      <th>3</th>\n",
       "      <td>2</td>\n",
       "      <td>5</td>\n",
       "      <td>trabalho</td>\n",
       "      <td>visita_rara</td>\n",
       "      <td>0.638842</td>\n",
       "    </tr>\n",
       "    <tr>\n",
       "      <th>4</th>\n",
       "      <td>3</td>\n",
       "      <td>6</td>\n",
       "      <td>amigos</td>\n",
       "      <td>mora_junto</td>\n",
       "      <td>NaN</td>\n",
       "    </tr>\n",
       "  </tbody>\n",
       "</table>\n",
       "</div>"
      ],
      "text/plain": [
       "   V1  V2      grau       proximidade  prob_V1_V2\n",
       "0   1   2  trabalho  visita_frequente    0.589462\n",
       "1   1   3  trabalho       visita_rara    0.708465\n",
       "2   2   4  trabalho     visita_casual         NaN\n",
       "3   2   5  trabalho       visita_rara    0.638842\n",
       "4   3   6    amigos        mora_junto         NaN"
      ]
     },
     "execution_count": 2,
     "metadata": {},
     "output_type": "execute_result"
    }
   ],
   "source": [
    "conexoes = pd.read_csv('database/conexoes_espec.csv', sep=';')\n",
    "conexoes.head()"
   ]
  },
  {
   "cell_type": "code",
   "execution_count": 3,
   "id": "f59523bb",
   "metadata": {},
   "outputs": [
    {
     "data": {
      "text/plain": [
       "500000"
      ]
     },
     "execution_count": 3,
     "metadata": {},
     "output_type": "execute_result"
    }
   ],
   "source": [
    "unknown_conexoes = conexoes[conexoes['prob_V1_V2'].isna()]\n",
    "len(unknown_conexoes)"
   ]
  },
  {
   "cell_type": "code",
   "execution_count": 4,
   "id": "c8a2e586",
   "metadata": {},
   "outputs": [
    {
     "data": {
      "text/plain": [
       "499999"
      ]
     },
     "execution_count": 4,
     "metadata": {},
     "output_type": "execute_result"
    }
   ],
   "source": [
    "filled_conexoes = conexoes[conexoes['prob_V1_V2'].notna()]\n",
    "len(filled_conexoes)"
   ]
  },
  {
   "cell_type": "code",
   "execution_count": null,
   "id": "f8faf11a",
   "metadata": {},
   "outputs": [],
   "source": []
  },
  {
   "cell_type": "code",
   "execution_count": 5,
   "id": "0f0f7794",
   "metadata": {},
   "outputs": [],
   "source": [
    "###   INSIGHTS\n",
    "\n",
    "#    use the structure of graphs\n",
    "#    directed graph (v1->v2 != v2->v1)\n",
    "#    weighted edge (which property to use? prob_V1_V2, grau or proximidade? Try to use all?)\n"
   ]
  },
  {
   "cell_type": "code",
   "execution_count": null,
   "id": "ac6a63a0",
   "metadata": {},
   "outputs": [],
   "source": []
  },
  {
   "cell_type": "code",
   "execution_count": 6,
   "id": "32cea1af",
   "metadata": {},
   "outputs": [],
   "source": [
    "import networkx as nx"
   ]
  },
  {
   "cell_type": "code",
   "execution_count": 7,
   "id": "b7a233aa",
   "metadata": {},
   "outputs": [],
   "source": [
    "G = nx.from_pandas_edgelist(df=filled_conexoes, source=\"V1\", target=\"V2\", edge_attr=True)"
   ]
  },
  {
   "cell_type": "code",
   "execution_count": 8,
   "id": "fef014be",
   "metadata": {},
   "outputs": [
    {
     "data": {
      "text/plain": [
       "networkx.classes.graph.Graph"
      ]
     },
     "execution_count": 8,
     "metadata": {},
     "output_type": "execute_result"
    }
   ],
   "source": [
    "type(G)"
   ]
  },
  {
   "cell_type": "code",
   "execution_count": 17,
   "id": "b475a8e5",
   "metadata": {},
   "outputs": [
    {
     "name": "stdout",
     "output_type": "stream",
     "text": [
      "Graph Summary:\n",
      "Number of nodes : 687855\n",
      "Number of edges : 499999\n",
      "Maximum degree : 3\n",
      "Minimum degree : 1\n",
      "Average degree : 1.453791860203095\n",
      "Median degree : 1.0\n",
      "\n",
      "Graph Connectivity\n",
      "Connected Components : 187856\n",
      "\n",
      "Graph Distance\n",
      "Exeption : Graph is not connected.\n",
      "\n",
      "Graph Clustering\n",
      "Transitivity : 0\n",
      "Average Clustering Coefficient : 0.0\n"
     ]
    }
   ],
   "source": [
    "###  This function is original from a post from Ani Madurkar on the link https://towardsdatascience.com/graph-machine-learning-with-python-pt-1-basics-metrics-and-algorithms-cc40972de113?gi=81c0db45ab01\n",
    "###  I've made some change in order to understand the graph for this problem\n",
    "\n",
    "def getGraphMetrics(graph):\n",
    "    \n",
    "    graph_degree = dict(graph.degree)\n",
    "    print(\"Graph Summary:\")\n",
    "    print(f\"Number of nodes : {len(graph.nodes)}\")\n",
    "    print(f\"Number of edges : {len(graph.edges)}\")\n",
    "    print(f\"Maximum degree : {np.max(list(graph_degree.values()))}\")\n",
    "    print(f\"Minimum degree : {np.min(list(graph_degree.values()))}\")\n",
    "    print(f\"Average degree : {np.mean(list(graph_degree.values()))}\")\n",
    "    print(f\"Median degree : {np.median(list(graph_degree.values()))}\")\n",
    "    print(\"\")\n",
    "    print(\"Graph Connectivity\")\n",
    "    try:\n",
    "        print(f\"Connected Components : {nx.number_connected_components(graph)}\")\n",
    "    except:\n",
    "        print(f\"Strongly Connected Components : {nx.number_strongly_connected_components(graph)}\")\n",
    "        print(f\"Weakly Connected Components : {nx.number_weakly_connected_components(graph)}\")\n",
    "    print(\"\")\n",
    "    print(\"Graph Distance\")\n",
    "    try:\n",
    "        print(f\"Average Distance : {nx.average_shortest_path_length(graph)}\")\n",
    "        print(f\"Diameter : {nx.algorithms.distance_measures.diameter(graph)}\")\n",
    "    except nx.NetworkXError as nxe:\n",
    "        print(f\"Exeption : {nxe}\")\n",
    "    print(\"\")\n",
    "    print(\"Graph Clustering\")\n",
    "    print(f\"Transitivity : {nx.transitivity(graph)}\")\n",
    "    print(f\"Average Clustering Coefficient : {nx.average_clustering(graph)}\")\n",
    "    \n",
    "    \n",
    "    return None\n",
    "\n",
    "getGraphMetrics(G)"
   ]
  },
  {
   "cell_type": "code",
   "execution_count": null,
   "id": "f8199baa",
   "metadata": {},
   "outputs": [],
   "source": []
  },
  {
   "cell_type": "code",
   "execution_count": null,
   "id": "824aaf13",
   "metadata": {},
   "outputs": [],
   "source": []
  },
  {
   "cell_type": "code",
   "execution_count": null,
   "id": "46d7848b",
   "metadata": {},
   "outputs": [],
   "source": []
  },
  {
   "cell_type": "code",
   "execution_count": null,
   "id": "eb4d796c",
   "metadata": {},
   "outputs": [],
   "source": []
  },
  {
   "cell_type": "code",
   "execution_count": null,
   "id": "eef3b602",
   "metadata": {},
   "outputs": [],
   "source": []
  }
 ],
 "metadata": {
  "kernelspec": {
   "display_name": "Python 3",
   "language": "python",
   "name": "python3"
  },
  "language_info": {
   "codemirror_mode": {
    "name": "ipython",
    "version": 3
   },
   "file_extension": ".py",
   "mimetype": "text/x-python",
   "name": "python",
   "nbconvert_exporter": "python",
   "pygments_lexer": "ipython3",
   "version": "3.8.1"
  }
 },
 "nbformat": 4,
 "nbformat_minor": 5
}
